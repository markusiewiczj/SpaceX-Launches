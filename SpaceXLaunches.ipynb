{
 "cells": [
  {
   "cell_type": "code",
   "execution_count": 11,
   "metadata": {},
   "outputs": [
    {
     "name": "stdout",
     "output_type": "stream",
     "text": [
      "Defaulting to user installation because normal site-packages is not writeable\n",
      "Collecting geopandas\n",
      "  Downloading geopandas-1.0.1-py3-none-any.whl (323 kB)\n",
      "\u001b[K     |████████████████████████████████| 323 kB 318 kB/s eta 0:00:01\n",
      "\u001b[?25hCollecting pyproj>=3.3.0\n",
      "  Downloading pyproj-3.6.1-cp39-cp39-macosx_11_0_arm64.whl (4.9 MB)\n",
      "\u001b[K     |████████████████████████████████| 4.9 MB 167 kB/s eta 0:00:01\n",
      "\u001b[?25hCollecting pyogrio>=0.7.2\n",
      "  Downloading pyogrio-0.10.0-cp39-cp39-macosx_12_0_arm64.whl (15.1 MB)\n",
      "\u001b[K     |████████████████████████████████| 15.1 MB 10.0 MB/s eta 0:00:01\n",
      "\u001b[?25hRequirement already satisfied: pandas>=1.4.0 in /Users/juliamarkusiewicz/Library/Python/3.9/lib/python/site-packages (from geopandas) (1.5.3)\n",
      "Requirement already satisfied: numpy>=1.22 in /Users/juliamarkusiewicz/Library/Python/3.9/lib/python/site-packages (from geopandas) (1.26.4)\n",
      "Requirement already satisfied: packaging in /Users/juliamarkusiewicz/Library/Python/3.9/lib/python/site-packages (from geopandas) (23.1)\n",
      "Collecting shapely>=2.0.0\n",
      "  Downloading shapely-2.0.6-cp39-cp39-macosx_11_0_arm64.whl (1.3 MB)\n",
      "\u001b[K     |████████████████████████████████| 1.3 MB 6.6 MB/s eta 0:00:01\n",
      "\u001b[?25hRequirement already satisfied: python-dateutil>=2.8.1 in /Users/juliamarkusiewicz/Library/Python/3.9/lib/python/site-packages (from pandas>=1.4.0->geopandas) (2.8.2)\n",
      "Requirement already satisfied: pytz>=2020.1 in /Users/juliamarkusiewicz/Library/Python/3.9/lib/python/site-packages (from pandas>=1.4.0->geopandas) (2023.3)\n",
      "Requirement already satisfied: certifi in /Users/juliamarkusiewicz/Library/Python/3.9/lib/python/site-packages (from pyogrio>=0.7.2->geopandas) (2023.5.7)\n",
      "Requirement already satisfied: six>=1.5 in /Library/Developer/CommandLineTools/Library/Frameworks/Python3.framework/Versions/3.9/lib/python3.9/site-packages (from python-dateutil>=2.8.1->pandas>=1.4.0->geopandas) (1.15.0)\n",
      "Installing collected packages: shapely, pyproj, pyogrio, geopandas\n",
      "Successfully installed geopandas-1.0.1 pyogrio-0.10.0 pyproj-3.6.1 shapely-2.0.6\n",
      "\u001b[33mWARNING: You are using pip version 21.2.4; however, version 24.3.1 is available.\n",
      "You should consider upgrading via the '/Library/Developer/CommandLineTools/usr/bin/python3 -m pip install --upgrade pip' command.\u001b[0m\n",
      "Note: you may need to restart the kernel to use updated packages.\n"
     ]
    }
   ],
   "source": [
    "pip install geopandas"
   ]
  },
  {
   "cell_type": "code",
   "execution_count": 12,
   "metadata": {},
   "outputs": [],
   "source": [
    "# loading packages\n",
    "import numpy as np\n",
    "import pandas as pd\n",
    "import matplotlib as mpl\n",
    "import matplotlib.pyplot as plt\n",
    "import seaborn as sns\n",
    "import geopandas as gpd \n",
    "import matplotlib.colors as mcolors\n",
    "from datetime import datetime\n",
    "import re"
   ]
  },
  {
   "cell_type": "code",
   "execution_count": 13,
   "metadata": {},
   "outputs": [],
   "source": [
    "mpl.style.use('fivethirtyeight')"
   ]
  }
 ],
 "metadata": {
  "kernelspec": {
   "display_name": "Python 3",
   "language": "python",
   "name": "python3"
  },
  "language_info": {
   "codemirror_mode": {
    "name": "ipython",
    "version": 3
   },
   "file_extension": ".py",
   "mimetype": "text/x-python",
   "name": "python",
   "nbconvert_exporter": "python",
   "pygments_lexer": "ipython3",
   "version": "3.9.6"
  }
 },
 "nbformat": 4,
 "nbformat_minor": 2
}
